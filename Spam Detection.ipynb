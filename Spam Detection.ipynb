{
 "cells": [
  {
   "cell_type": "code",
   "execution_count": 11,
   "id": "994d2d8c",
   "metadata": {},
   "outputs": [],
   "source": [
    "import pandas as pd\n",
    "import numpy as np\n",
    "import matplotlib.pyplot as plt\n",
    "\n",
    "from sklearn.model_selection import GridSearchCV, cross_val_score, KFold, train_test_split\n",
    "from sklearn.tree import DecisionTreeClassifier, DecisionTreeRegressor\n",
    "from sklearn.neighbors import KNeighborsClassifier, KNeighborsRegressor\n",
    "from sklearn.linear_model import LogisticRegression, LinearRegression, ElasticNet\n",
    "from sklearn.svm import SVC, SVR\n",
    "from xgboost import XGBClassifier, XGBRegressor\n",
    "from lightgbm import LGBMClassifier, LGBMRegressor\n",
    "\n",
    "from sklearn.utils.class_weight import compute_class_weight\n",
    "from sklearn.preprocessing import StandardScaler, OrdinalEncoder\n",
    "from sklearn.pipeline import Pipeline\n",
    "from sklearn.compose import ColumnTransformer\n",
    "from sklearn.metrics import mean_squared_error, roc_curve, auc, confusion_matrix, \\\n",
    "                            plot_confusion_matrix, classification_report, make_scorer, f1_score, accuracy_score\n",
    "from sklearn import metrics\n",
    "import scikitplot as skplt\n",
    "\n",
    "import tensorflow as tf \n",
    "from tensorflow.keras import backend as K\n",
    "from tensorflow.keras.models import Sequential\n",
    "from tensorflow.keras.datasets import mnist\n",
    "from tensorflow.keras import layers\n",
    "from tensorflow.keras.layers import Dense, Activation, Dropout, Flatten\n",
    "from tensorflow.keras.utils import to_categorical\n",
    "from tensorflow.keras.wrappers.scikit_learn import KerasClassifier\n",
    "import keras_tuner as kt\n",
    "from tensorflow import keras\n",
    "from keras_tuner import RandomSearch, BayesianOptimization\n",
    "from keras import metrics\n",
    "\n",
    "import warnings\n",
    "warnings.filterwarnings(\"ignore\")"
   ]
  },
  {
   "cell_type": "markdown",
   "id": "5dec3234",
   "metadata": {},
   "source": [
    "# Overview of Spam Prediction\n",
    "\n",
    "- In this project, I use seven different models: Decision Tree, Linear/Logistic Regression, KNN, SVM, XGBoost, LightGBM and Neural Network to perform the same spam prediction using two kinds of objectives: model accuracy and business cost.\n",
    "- Because of the imbalance distribution of targeted binary variable, both the two types of prediction models are modified using the class weights.\n",
    "\n",
    "<br>\n",
    "\n",
    "- For the model accuracy based prediction,\n",
    "    - Within each model, I set hyperparameter space as follow:\n",
    "        - Decision tree: \"max_depth\" : range(2,15), \"min_samples_leaf\": [2, 3, 4]\n",
    "        - Linear regression: \"C\": [10\\*\\*i for i in range(1, 20)]\n",
    "        - KNN: \"n_neighbors\": range(2,20), \"weights\": [\"uniform\", \"distance\"]\n",
    "        - SVM: \"C\": [10\\*\\*i for i in range(1, 5)], \"gamma\": [10\\*\\*i for i in range(-3, 0)],   \"kernel\": \"rbf\"\n",
    "        - XGBoost: 'learning_rate' :  [10\\*\\*i for i in range(-3, 0)], 'max_depth': range(3,11,2), \"gamma\": [10\\*\\*i for i in range(-3, 0)], 'n_estimators':[300, 500], 'colsample_bytree':[0.3, 0.7]\n",
    "        - LightGBM: 'learning_rate' :  [10\\*\\*i for i in range(-3, 0)], 'max_depth': range(3,11,2), 'n_estimators':[300, 500], 'colsample_bytree':[0.3, 0.7]\n",
    "        - NN: \"num_layers\": range(2,20), \"num_neuron\": min_value=32, max_value=512, step=32, \"activation\": [\"relu\", \"tanh\"], \"dropout\": 0.25\n",
    "    - For each round of trying the hyperparameter, I use standardized normalization for scaling and calculate accuracy for model performance. \n",
    "    - After trying all the possible hyperparameters, I calculate the average accuracy for comparison.\n",
    "        - Decision tree: 0.9081521739130434\n",
    "        - Logistic regression: 0.9263586956521739\n",
    "        - KNN: 0.919836956521739\n",
    "        - SVM: 0.9315217391304348\n",
    "        - XGBoost: 0.9505434782608696\n",
    "        - LightGBM: 0.9510869565217391\n",
    "        - NN: 0.9496923685073853\n",
    "    - According to the comparison, we can conclude that LightGBM is the best model among all. \n",
    "    - Since the best model is LightGBM, I try GridSearch again on LightGBM for finding the best hyperparameter.\n",
    "    - Finally, I test the LightGBM with best hyperparameter on testing data and output the confusion matrix, roc curve and lift curve.\n",
    "    - The best model has a accuracy of 0.959. Specifically, f1 score for label 0 is 0.96, f1 score for label 1 is 0.98. Both of their AUC are 0.95\n",
    "    \n",
    "<br>\n",
    "\n",
    "- For the business cost based prediction,\n",
    "    - Within each model, I set hyperparameter space as follow:\n",
    "        - Decision tree: \"max_depth\" : range(2,15), \"min_samples_leaf\": [2, 3, 4]\n",
    "        - Logistic regression: \"C\": [10\\*\\*i for i in range(1, 20)]\n",
    "        - KNN: \"n_neighbors\": range(2,20), \"weights\": [\"uniform\", \"distance\"]\n",
    "        - SVM: \"C\": [10\\*\\*i for i in range(1, 5)], \"gamma\": [10\\*\\*i for i in range(-3, 0)],   \"kernel\": \"rbf\"\n",
    "        - XGBoost: 'learning_rate' :  [10\\*\\*i for i in range(-3, 0)], 'max_depth': range(3,11,2), \"gamma\": [10\\*\\*i for i in range(-3, 0)], 'n_estimators':[300, 500], 'colsample_bytree':[0.3, 0.7]\n",
    "        - LightGBM: 'learning_rate' :  [10\\*\\*i for i in range(-3, 0)], 'max_depth': range(3,11,2), 'n_estimators':[300, 500], 'colsample_bytree':[0.3, 0.7]\n",
    "        - NN: \"num_layers\": range(2,20), \"num_neuron\": min_value=32, max_value=512, step=32, \"activation\": [\"relu\", \"tanh\"], \"dropout\": 0.25\n",
    "    - For each round of trying the hyperparameter, I use standardized normalization for scaling and calculate business cost for model performance. \n",
    "    - After trying all the possible hyperparameters, I calculate the average business cost for comparison.\n",
    "        - Decision tree: 281.25\n",
    "        - Logistic regression: 297.25\n",
    "        - KNN: 320.0\n",
    "        - SVM: 282.5\n",
    "        - XGBoost: 232.75\n",
    "        - LightGBM: 156.5\n",
    "        - NN: 338\n",
    "    - According to the comparison, we can conclude that LightGBM is the best model among all. \n",
    "        - Since the best model is LightGBM, I try GridSearch again on LightGBM for finding the best hyperparameter.\n",
    "    - Finally, I test the LightGBM with best hyperparameter on testing data and output the confusion matrix, roc curve and lift curve.\n",
    "    - The best model has a cost at 156."
   ]
  },
  {
   "cell_type": "code",
   "execution_count": 5,
   "id": "9569015e",
   "metadata": {},
   "outputs": [],
   "source": [
    "names_ls = [\n",
    "\"word_freq_make\",\n",
    "\"word_freq_address\",\n",
    "\"word_freq_all\",\n",
    "\"word_freq_3d\",\n",
    "\"word_freq_our\",\n",
    "\"word_freq_over\",\n",
    "\"word_freq_remove\",\n",
    "\"word_freq_internet\",\n",
    "\"word_freq_order\",\n",
    "\"word_freq_mail\",\n",
    "\"word_freq_receive\",\n",
    "\"word_freq_will\",\n",
    "\"word_freq_people\",\n",
    "\"word_freq_report\",\n",
    "\"word_freq_addresses\",\n",
    "\"word_freq_free\",\n",
    "\"word_freq_business\",\n",
    "\"word_freq_email\",\n",
    "\"word_freq_you\",\n",
    "\"word_freq_credit\",\n",
    "\"word_freq_your\",\n",
    "\"word_freq_font\",\n",
    "\"word_freq_000\",\n",
    "\"word_freq_money\",\n",
    "\"word_freq_hp\",\n",
    "\"word_freq_hpl\",\n",
    "\"word_freq_george\",\n",
    "\"word_freq_650\",\n",
    "\"word_freq_lab\",\n",
    "\"word_freq_labs\",\n",
    "\"word_freq_telnet\",\n",
    "\"word_freq_857\",\n",
    "\"word_freq_data\",\n",
    "\"word_freq_415\",\n",
    "\"word_freq_85\",\n",
    "\"word_freq_technology\",\n",
    "\"word_freq_1999\",\n",
    "\"word_freq_parts\",\n",
    "\"word_freq_pm\",\n",
    "\"word_freq_direct\",\n",
    "\"word_freq_cs\",\n",
    "\"word_freq_meeting\",\n",
    "\"word_freq_original\",\n",
    "\"word_freq_project\",\n",
    "\"word_freq_re\",\n",
    "\"word_freq_edu\",\n",
    "\"word_freq_table\",\n",
    "\"word_freq_conference\",\n",
    "\"char_freq_;\",\n",
    "\"char_freq_(\",\n",
    "\"char_freq_[\",\n",
    "\"char_freq_!\",\n",
    "\"char_freq_$\",\n",
    "\"char_freq_#\",\n",
    "\"capital_run_length_average\",\n",
    "\"capital_run_length_longest\",\n",
    "\"capital_run_length_total\",\n",
    "\"target\"\n",
    "]"
   ]
  },
  {
   "cell_type": "code",
   "execution_count": 6,
   "id": "d9994040",
   "metadata": {},
   "outputs": [],
   "source": [
    "data = pd.read_csv(\"spambase.data\", names = names_ls)"
   ]
  },
  {
   "cell_type": "code",
   "execution_count": 7,
   "id": "9e3bb540",
   "metadata": {},
   "outputs": [
    {
     "data": {
      "text/html": [
       "<div>\n",
       "<style scoped>\n",
       "    .dataframe tbody tr th:only-of-type {\n",
       "        vertical-align: middle;\n",
       "    }\n",
       "\n",
       "    .dataframe tbody tr th {\n",
       "        vertical-align: top;\n",
       "    }\n",
       "\n",
       "    .dataframe thead th {\n",
       "        text-align: right;\n",
       "    }\n",
       "</style>\n",
       "<table border=\"1\" class=\"dataframe\">\n",
       "  <thead>\n",
       "    <tr style=\"text-align: right;\">\n",
       "      <th></th>\n",
       "      <th>word_freq_make</th>\n",
       "      <th>word_freq_address</th>\n",
       "      <th>word_freq_all</th>\n",
       "      <th>word_freq_3d</th>\n",
       "      <th>word_freq_our</th>\n",
       "      <th>word_freq_over</th>\n",
       "      <th>word_freq_remove</th>\n",
       "      <th>word_freq_internet</th>\n",
       "      <th>word_freq_order</th>\n",
       "      <th>word_freq_mail</th>\n",
       "      <th>...</th>\n",
       "      <th>char_freq_;</th>\n",
       "      <th>char_freq_(</th>\n",
       "      <th>char_freq_[</th>\n",
       "      <th>char_freq_!</th>\n",
       "      <th>char_freq_$</th>\n",
       "      <th>char_freq_#</th>\n",
       "      <th>capital_run_length_average</th>\n",
       "      <th>capital_run_length_longest</th>\n",
       "      <th>capital_run_length_total</th>\n",
       "      <th>target</th>\n",
       "    </tr>\n",
       "  </thead>\n",
       "  <tbody>\n",
       "    <tr>\n",
       "      <th>0</th>\n",
       "      <td>0.00</td>\n",
       "      <td>0.64</td>\n",
       "      <td>0.64</td>\n",
       "      <td>0.0</td>\n",
       "      <td>0.32</td>\n",
       "      <td>0.00</td>\n",
       "      <td>0.00</td>\n",
       "      <td>0.00</td>\n",
       "      <td>0.00</td>\n",
       "      <td>0.00</td>\n",
       "      <td>...</td>\n",
       "      <td>0.00</td>\n",
       "      <td>0.000</td>\n",
       "      <td>0.0</td>\n",
       "      <td>0.778</td>\n",
       "      <td>0.000</td>\n",
       "      <td>0.000</td>\n",
       "      <td>3.756</td>\n",
       "      <td>61</td>\n",
       "      <td>278</td>\n",
       "      <td>1</td>\n",
       "    </tr>\n",
       "    <tr>\n",
       "      <th>1</th>\n",
       "      <td>0.21</td>\n",
       "      <td>0.28</td>\n",
       "      <td>0.50</td>\n",
       "      <td>0.0</td>\n",
       "      <td>0.14</td>\n",
       "      <td>0.28</td>\n",
       "      <td>0.21</td>\n",
       "      <td>0.07</td>\n",
       "      <td>0.00</td>\n",
       "      <td>0.94</td>\n",
       "      <td>...</td>\n",
       "      <td>0.00</td>\n",
       "      <td>0.132</td>\n",
       "      <td>0.0</td>\n",
       "      <td>0.372</td>\n",
       "      <td>0.180</td>\n",
       "      <td>0.048</td>\n",
       "      <td>5.114</td>\n",
       "      <td>101</td>\n",
       "      <td>1028</td>\n",
       "      <td>1</td>\n",
       "    </tr>\n",
       "    <tr>\n",
       "      <th>2</th>\n",
       "      <td>0.06</td>\n",
       "      <td>0.00</td>\n",
       "      <td>0.71</td>\n",
       "      <td>0.0</td>\n",
       "      <td>1.23</td>\n",
       "      <td>0.19</td>\n",
       "      <td>0.19</td>\n",
       "      <td>0.12</td>\n",
       "      <td>0.64</td>\n",
       "      <td>0.25</td>\n",
       "      <td>...</td>\n",
       "      <td>0.01</td>\n",
       "      <td>0.143</td>\n",
       "      <td>0.0</td>\n",
       "      <td>0.276</td>\n",
       "      <td>0.184</td>\n",
       "      <td>0.010</td>\n",
       "      <td>9.821</td>\n",
       "      <td>485</td>\n",
       "      <td>2259</td>\n",
       "      <td>1</td>\n",
       "    </tr>\n",
       "    <tr>\n",
       "      <th>3</th>\n",
       "      <td>0.00</td>\n",
       "      <td>0.00</td>\n",
       "      <td>0.00</td>\n",
       "      <td>0.0</td>\n",
       "      <td>0.63</td>\n",
       "      <td>0.00</td>\n",
       "      <td>0.31</td>\n",
       "      <td>0.63</td>\n",
       "      <td>0.31</td>\n",
       "      <td>0.63</td>\n",
       "      <td>...</td>\n",
       "      <td>0.00</td>\n",
       "      <td>0.137</td>\n",
       "      <td>0.0</td>\n",
       "      <td>0.137</td>\n",
       "      <td>0.000</td>\n",
       "      <td>0.000</td>\n",
       "      <td>3.537</td>\n",
       "      <td>40</td>\n",
       "      <td>191</td>\n",
       "      <td>1</td>\n",
       "    </tr>\n",
       "    <tr>\n",
       "      <th>4</th>\n",
       "      <td>0.00</td>\n",
       "      <td>0.00</td>\n",
       "      <td>0.00</td>\n",
       "      <td>0.0</td>\n",
       "      <td>0.63</td>\n",
       "      <td>0.00</td>\n",
       "      <td>0.31</td>\n",
       "      <td>0.63</td>\n",
       "      <td>0.31</td>\n",
       "      <td>0.63</td>\n",
       "      <td>...</td>\n",
       "      <td>0.00</td>\n",
       "      <td>0.135</td>\n",
       "      <td>0.0</td>\n",
       "      <td>0.135</td>\n",
       "      <td>0.000</td>\n",
       "      <td>0.000</td>\n",
       "      <td>3.537</td>\n",
       "      <td>40</td>\n",
       "      <td>191</td>\n",
       "      <td>1</td>\n",
       "    </tr>\n",
       "  </tbody>\n",
       "</table>\n",
       "<p>5 rows × 58 columns</p>\n",
       "</div>"
      ],
      "text/plain": [
       "   word_freq_make  word_freq_address  word_freq_all  word_freq_3d  \\\n",
       "0            0.00               0.64           0.64           0.0   \n",
       "1            0.21               0.28           0.50           0.0   \n",
       "2            0.06               0.00           0.71           0.0   \n",
       "3            0.00               0.00           0.00           0.0   \n",
       "4            0.00               0.00           0.00           0.0   \n",
       "\n",
       "   word_freq_our  word_freq_over  word_freq_remove  word_freq_internet  \\\n",
       "0           0.32            0.00              0.00                0.00   \n",
       "1           0.14            0.28              0.21                0.07   \n",
       "2           1.23            0.19              0.19                0.12   \n",
       "3           0.63            0.00              0.31                0.63   \n",
       "4           0.63            0.00              0.31                0.63   \n",
       "\n",
       "   word_freq_order  word_freq_mail  ...  char_freq_;  char_freq_(  \\\n",
       "0             0.00            0.00  ...         0.00        0.000   \n",
       "1             0.00            0.94  ...         0.00        0.132   \n",
       "2             0.64            0.25  ...         0.01        0.143   \n",
       "3             0.31            0.63  ...         0.00        0.137   \n",
       "4             0.31            0.63  ...         0.00        0.135   \n",
       "\n",
       "   char_freq_[  char_freq_!  char_freq_$  char_freq_#  \\\n",
       "0          0.0        0.778        0.000        0.000   \n",
       "1          0.0        0.372        0.180        0.048   \n",
       "2          0.0        0.276        0.184        0.010   \n",
       "3          0.0        0.137        0.000        0.000   \n",
       "4          0.0        0.135        0.000        0.000   \n",
       "\n",
       "   capital_run_length_average  capital_run_length_longest  \\\n",
       "0                       3.756                          61   \n",
       "1                       5.114                         101   \n",
       "2                       9.821                         485   \n",
       "3                       3.537                          40   \n",
       "4                       3.537                          40   \n",
       "\n",
       "   capital_run_length_total  target  \n",
       "0                       278       1  \n",
       "1                      1028       1  \n",
       "2                      2259       1  \n",
       "3                       191       1  \n",
       "4                       191       1  \n",
       "\n",
       "[5 rows x 58 columns]"
      ]
     },
     "execution_count": 7,
     "metadata": {},
     "output_type": "execute_result"
    }
   ],
   "source": [
    "data.head()"
   ]
  },
  {
   "cell_type": "code",
   "execution_count": 8,
   "id": "70705f07",
   "metadata": {},
   "outputs": [
    {
     "data": {
      "text/plain": [
       "0    1\n",
       "1    1\n",
       "2    1\n",
       "3    1\n",
       "4    1\n",
       "Name: target, dtype: int64"
      ]
     },
     "execution_count": 8,
     "metadata": {},
     "output_type": "execute_result"
    }
   ],
   "source": [
    "data_target = data.iloc[:,-1]\n",
    "data_target.head()"
   ]
  },
  {
   "cell_type": "code",
   "execution_count": 9,
   "id": "384f05be",
   "metadata": {},
   "outputs": [
    {
     "data": {
      "text/plain": [
       "count     4601\n",
       "unique       2\n",
       "top          0\n",
       "freq      2788\n",
       "Name: target, dtype: object"
      ]
     },
     "execution_count": 9,
     "metadata": {},
     "output_type": "execute_result"
    }
   ],
   "source": [
    "data_target.astype(\"string\").describe()"
   ]
  },
  {
   "cell_type": "code",
   "execution_count": 12,
   "id": "bb0cdbb5",
   "metadata": {},
   "outputs": [
    {
     "data": {
      "text/plain": [
       "{0: 0.8251434720229556, 1: 1.2688913403199118}"
      ]
     },
     "execution_count": 12,
     "metadata": {},
     "output_type": "execute_result"
    }
   ],
   "source": [
    "class_weights = compute_class_weight(\"balanced\", np.unique(data_target), data_target)\n",
    "class_weights = dict(zip(np.unique(data_target), class_weights))\n",
    "class_weights"
   ]
  },
  {
   "cell_type": "code",
   "execution_count": 13,
   "id": "f94bca81",
   "metadata": {},
   "outputs": [
    {
     "data": {
      "text/plain": [
       "(array([0, 1]), array([2788, 1813]))"
      ]
     },
     "execution_count": 13,
     "metadata": {},
     "output_type": "execute_result"
    }
   ],
   "source": [
    "counts = np.unique(data_target, return_counts = True)\n",
    "counts"
   ]
  },
  {
   "cell_type": "code",
   "execution_count": 14,
   "id": "e42692ef",
   "metadata": {},
   "outputs": [
    {
     "data": {
      "text/plain": [
       "1.5377826806398236"
      ]
     },
     "execution_count": 14,
     "metadata": {},
     "output_type": "execute_result"
    }
   ],
   "source": [
    "scale_pos_weights = counts[1][0]/counts[1][1]\n",
    "scale_pos_weights"
   ]
  },
  {
   "cell_type": "code",
   "execution_count": 15,
   "id": "6dfa9648",
   "metadata": {},
   "outputs": [],
   "source": [
    "data_target = data_target.to_numpy().reshape(data_target.shape[0], 1)"
   ]
  },
  {
   "cell_type": "code",
   "execution_count": 16,
   "id": "567dd0b8",
   "metadata": {},
   "outputs": [
    {
     "data": {
      "text/html": [
       "<div>\n",
       "<style scoped>\n",
       "    .dataframe tbody tr th:only-of-type {\n",
       "        vertical-align: middle;\n",
       "    }\n",
       "\n",
       "    .dataframe tbody tr th {\n",
       "        vertical-align: top;\n",
       "    }\n",
       "\n",
       "    .dataframe thead th {\n",
       "        text-align: right;\n",
       "    }\n",
       "</style>\n",
       "<table border=\"1\" class=\"dataframe\">\n",
       "  <thead>\n",
       "    <tr style=\"text-align: right;\">\n",
       "      <th></th>\n",
       "      <th>word_freq_make</th>\n",
       "      <th>word_freq_address</th>\n",
       "      <th>word_freq_all</th>\n",
       "      <th>word_freq_3d</th>\n",
       "      <th>word_freq_our</th>\n",
       "      <th>word_freq_over</th>\n",
       "      <th>word_freq_remove</th>\n",
       "      <th>word_freq_internet</th>\n",
       "      <th>word_freq_order</th>\n",
       "      <th>word_freq_mail</th>\n",
       "      <th>...</th>\n",
       "      <th>word_freq_conference</th>\n",
       "      <th>char_freq_;</th>\n",
       "      <th>char_freq_(</th>\n",
       "      <th>char_freq_[</th>\n",
       "      <th>char_freq_!</th>\n",
       "      <th>char_freq_$</th>\n",
       "      <th>char_freq_#</th>\n",
       "      <th>capital_run_length_average</th>\n",
       "      <th>capital_run_length_longest</th>\n",
       "      <th>capital_run_length_total</th>\n",
       "    </tr>\n",
       "  </thead>\n",
       "  <tbody>\n",
       "    <tr>\n",
       "      <th>0</th>\n",
       "      <td>0.00</td>\n",
       "      <td>0.64</td>\n",
       "      <td>0.64</td>\n",
       "      <td>0.0</td>\n",
       "      <td>0.32</td>\n",
       "      <td>0.00</td>\n",
       "      <td>0.00</td>\n",
       "      <td>0.00</td>\n",
       "      <td>0.00</td>\n",
       "      <td>0.00</td>\n",
       "      <td>...</td>\n",
       "      <td>0.0</td>\n",
       "      <td>0.00</td>\n",
       "      <td>0.000</td>\n",
       "      <td>0.0</td>\n",
       "      <td>0.778</td>\n",
       "      <td>0.000</td>\n",
       "      <td>0.000</td>\n",
       "      <td>3.756</td>\n",
       "      <td>61</td>\n",
       "      <td>278</td>\n",
       "    </tr>\n",
       "    <tr>\n",
       "      <th>1</th>\n",
       "      <td>0.21</td>\n",
       "      <td>0.28</td>\n",
       "      <td>0.50</td>\n",
       "      <td>0.0</td>\n",
       "      <td>0.14</td>\n",
       "      <td>0.28</td>\n",
       "      <td>0.21</td>\n",
       "      <td>0.07</td>\n",
       "      <td>0.00</td>\n",
       "      <td>0.94</td>\n",
       "      <td>...</td>\n",
       "      <td>0.0</td>\n",
       "      <td>0.00</td>\n",
       "      <td>0.132</td>\n",
       "      <td>0.0</td>\n",
       "      <td>0.372</td>\n",
       "      <td>0.180</td>\n",
       "      <td>0.048</td>\n",
       "      <td>5.114</td>\n",
       "      <td>101</td>\n",
       "      <td>1028</td>\n",
       "    </tr>\n",
       "    <tr>\n",
       "      <th>2</th>\n",
       "      <td>0.06</td>\n",
       "      <td>0.00</td>\n",
       "      <td>0.71</td>\n",
       "      <td>0.0</td>\n",
       "      <td>1.23</td>\n",
       "      <td>0.19</td>\n",
       "      <td>0.19</td>\n",
       "      <td>0.12</td>\n",
       "      <td>0.64</td>\n",
       "      <td>0.25</td>\n",
       "      <td>...</td>\n",
       "      <td>0.0</td>\n",
       "      <td>0.01</td>\n",
       "      <td>0.143</td>\n",
       "      <td>0.0</td>\n",
       "      <td>0.276</td>\n",
       "      <td>0.184</td>\n",
       "      <td>0.010</td>\n",
       "      <td>9.821</td>\n",
       "      <td>485</td>\n",
       "      <td>2259</td>\n",
       "    </tr>\n",
       "    <tr>\n",
       "      <th>3</th>\n",
       "      <td>0.00</td>\n",
       "      <td>0.00</td>\n",
       "      <td>0.00</td>\n",
       "      <td>0.0</td>\n",
       "      <td>0.63</td>\n",
       "      <td>0.00</td>\n",
       "      <td>0.31</td>\n",
       "      <td>0.63</td>\n",
       "      <td>0.31</td>\n",
       "      <td>0.63</td>\n",
       "      <td>...</td>\n",
       "      <td>0.0</td>\n",
       "      <td>0.00</td>\n",
       "      <td>0.137</td>\n",
       "      <td>0.0</td>\n",
       "      <td>0.137</td>\n",
       "      <td>0.000</td>\n",
       "      <td>0.000</td>\n",
       "      <td>3.537</td>\n",
       "      <td>40</td>\n",
       "      <td>191</td>\n",
       "    </tr>\n",
       "    <tr>\n",
       "      <th>4</th>\n",
       "      <td>0.00</td>\n",
       "      <td>0.00</td>\n",
       "      <td>0.00</td>\n",
       "      <td>0.0</td>\n",
       "      <td>0.63</td>\n",
       "      <td>0.00</td>\n",
       "      <td>0.31</td>\n",
       "      <td>0.63</td>\n",
       "      <td>0.31</td>\n",
       "      <td>0.63</td>\n",
       "      <td>...</td>\n",
       "      <td>0.0</td>\n",
       "      <td>0.00</td>\n",
       "      <td>0.135</td>\n",
       "      <td>0.0</td>\n",
       "      <td>0.135</td>\n",
       "      <td>0.000</td>\n",
       "      <td>0.000</td>\n",
       "      <td>3.537</td>\n",
       "      <td>40</td>\n",
       "      <td>191</td>\n",
       "    </tr>\n",
       "  </tbody>\n",
       "</table>\n",
       "<p>5 rows × 57 columns</p>\n",
       "</div>"
      ],
      "text/plain": [
       "   word_freq_make  word_freq_address  word_freq_all  word_freq_3d  \\\n",
       "0            0.00               0.64           0.64           0.0   \n",
       "1            0.21               0.28           0.50           0.0   \n",
       "2            0.06               0.00           0.71           0.0   \n",
       "3            0.00               0.00           0.00           0.0   \n",
       "4            0.00               0.00           0.00           0.0   \n",
       "\n",
       "   word_freq_our  word_freq_over  word_freq_remove  word_freq_internet  \\\n",
       "0           0.32            0.00              0.00                0.00   \n",
       "1           0.14            0.28              0.21                0.07   \n",
       "2           1.23            0.19              0.19                0.12   \n",
       "3           0.63            0.00              0.31                0.63   \n",
       "4           0.63            0.00              0.31                0.63   \n",
       "\n",
       "   word_freq_order  word_freq_mail  ...  word_freq_conference  char_freq_;  \\\n",
       "0             0.00            0.00  ...                   0.0         0.00   \n",
       "1             0.00            0.94  ...                   0.0         0.00   \n",
       "2             0.64            0.25  ...                   0.0         0.01   \n",
       "3             0.31            0.63  ...                   0.0         0.00   \n",
       "4             0.31            0.63  ...                   0.0         0.00   \n",
       "\n",
       "   char_freq_(  char_freq_[  char_freq_!  char_freq_$  char_freq_#  \\\n",
       "0        0.000          0.0        0.778        0.000        0.000   \n",
       "1        0.132          0.0        0.372        0.180        0.048   \n",
       "2        0.143          0.0        0.276        0.184        0.010   \n",
       "3        0.137          0.0        0.137        0.000        0.000   \n",
       "4        0.135          0.0        0.135        0.000        0.000   \n",
       "\n",
       "   capital_run_length_average  capital_run_length_longest  \\\n",
       "0                       3.756                          61   \n",
       "1                       5.114                         101   \n",
       "2                       9.821                         485   \n",
       "3                       3.537                          40   \n",
       "4                       3.537                          40   \n",
       "\n",
       "   capital_run_length_total  \n",
       "0                       278  \n",
       "1                      1028  \n",
       "2                      2259  \n",
       "3                       191  \n",
       "4                       191  \n",
       "\n",
       "[5 rows x 57 columns]"
      ]
     },
     "execution_count": 16,
     "metadata": {},
     "output_type": "execute_result"
    }
   ],
   "source": [
    "data_feature = data.iloc[:,0:57]\n",
    "data_feature.head()"
   ]
  },
  {
   "cell_type": "markdown",
   "id": "7ea833c4",
   "metadata": {},
   "source": [
    "## Classification based on Accuracy\n",
    "### Machine Learning: Decision Tree, Logistic Regression, KNN, SVM, XGBoost, LightGBM"
   ]
  },
  {
   "cell_type": "code",
   "execution_count": 1098,
   "id": "b4d480d1",
   "metadata": {},
   "outputs": [],
   "source": [
    "# Train-Test Split\n",
    "X_train, X_test, y_train, y_test = train_test_split(data_feature, data_target, test_size=0.2, random_state=42)\n",
    "\n",
    "# Define cross-validation set\n",
    "inner_cv = KFold(n_splits=4, shuffle=True, random_state=42)\n",
    "outer_cv = KFold(n_splits=4, shuffle=True, random_state=42)\n",
    "\n",
    "# Find the best model\n",
    "# Define a function\n",
    "def NestedCV(param_grid, names, models, normalize, cv=inner_cv, scoring='accuracy'):\n",
    "    cv_score = {}\n",
    "    scaler = ColumnTransformer(\n",
    "                transformers=[('ss', StandardScaler(), names_ls[:-1])],\n",
    "                remainder=\"passthrough\")\n",
    "        \n",
    "        \n",
    "    for name, model, norm, param in zip(names, models, normalize, param_grid):\n",
    "        print(name)\n",
    "        normalization = norm\n",
    "        if normalization:\n",
    "            pipe = Pipeline([('scaler', scaler), ('estimator', model)])   \n",
    "        else:\n",
    "            pipe = Pipeline([('estimator', model)]) \n",
    "            \n",
    "        clf = GridSearchCV(estimator=pipe, param_grid=param, n_jobs=-1, cv=cv, scoring=scoring, error_score = 'raise')\n",
    "        score = cross_val_score(clf, X=X_train, y=y_train, cv=outer_cv)\n",
    "        cv_score[name] = score.mean()\n",
    "    return cv_score"
   ]
  },
  {
   "cell_type": "code",
   "execution_count": 200,
   "id": "292ec096",
   "metadata": {},
   "outputs": [],
   "source": [
    "# Define the hyperparameter space\n",
    "dt_grid = {\"estimator__max_depth\" : list(range(2,15)),\n",
    "          \"estimator__min_samples_leaf\": [2, 3, 4]}\n",
    "lr_grid = {\"estimator__C\": [10**i for i in range(1, 20)]}\n",
    "knn_grid = {\"estimator__n_neighbors\": list(range(2,20)),\n",
    "          \"estimator__weights\": [\"uniform\", \"distance\"]}\n",
    "svm_grid = {\"estimator__C\": [10**i for i in range(1, 5)],\n",
    "          \"estimator__gamma\": [10**i for i in range(-3, 0)]\n",
    "           #\"estimator__decision_function_shape\": [\"ovo\", \"ovr\"],\n",
    "           #\"estimator__kernel\": [\"linear\", \"poly\", \"rbf\", \"sigmoid\"]\n",
    "           }\n",
    "xgb_grid = {'estimator__objective':['binary:logistic'],\n",
    "            'estimator__learning_rate': [10**i for i in range(-3, 0)],\n",
    "            'estimator__max_depth': list(range(3,11,2)), \n",
    "            'estimator__gamma':[10**i for i in range(-3, 0)],\n",
    "            'estimator__n_estimators':[300, 500], \n",
    "            'estimator__colsample_bytree':[0.3, 0.7]}\n",
    "lgbm_grid = {'estimator__objective':['binary'], \n",
    "             'estimator__learning_rate': [10**i for i in range(-3, 0)],\n",
    "             'estimator__max_depth': list(range(3,11,2)),\n",
    "             'estimator__n_estimators':[300, 500],\n",
    "             'estimator__colsample_bytree':[0.3, 0.7]}\n",
    "\n",
    "models_param_grid = [dt_grid, lr_grid, knn_grid, svm_grid, xgb_grid, lgbm_grid]\n",
    "\n",
    "models = [DecisionTreeClassifier(class_weight=class_weights),\n",
    "          LogisticRegression(class_weight=class_weights), \n",
    "          KNeighborsClassifier(),\n",
    "          SVC(kernel = \"rbf\", class_weight=class_weights),\n",
    "         XGBClassifier(scale_pos_weight = scale_pos_weights, \n",
    "                       tree_method = \"gpu_hist\"\n",
    "                      ),\n",
    "         LGBMClassifier(class_weight=class_weights, \n",
    "                        device = \"gpu\"\n",
    "                       )]\n",
    "names = ['DT', 'LR' ,'KNN' ,'SVC', \"XGB\", \"LGBM\"]\n",
    "norm = [False, True, True, True, True, True]"
   ]
  },
  {
   "cell_type": "code",
   "execution_count": 148,
   "id": "deff6209",
   "metadata": {},
   "outputs": [
    {
     "name": "stdout",
     "output_type": "stream",
     "text": [
      "DT\n",
      "LR\n",
      "KNN\n",
      "SVC\n",
      "XGB\n",
      "LGBM\n"
     ]
    },
    {
     "data": {
      "text/plain": [
       "{'DT': 0.9081521739130434,\n",
       " 'LR': 0.9263586956521739,\n",
       " 'KNN': 0.919836956521739,\n",
       " 'SVC': 0.9315217391304348,\n",
       " 'XGB': 0.9505434782608696,\n",
       " 'LGBM': 0.9510869565217391}"
      ]
     },
     "execution_count": 148,
     "metadata": {},
     "output_type": "execute_result"
    }
   ],
   "source": [
    "NestedCV(param_grid= models_param_grid, models = models, names = names, normalize = norm)"
   ]
  },
  {
   "cell_type": "markdown",
   "id": "395f25b4",
   "metadata": {},
   "source": [
    "**Neural Network**"
   ]
  },
  {
   "cell_type": "code",
   "execution_count": 182,
   "id": "a5754cb9",
   "metadata": {},
   "outputs": [],
   "source": [
    "def build_model(hp):  \n",
    "    model=Sequential()\n",
    "    model.add(Flatten(input_dim=X_train.shape[1]))\n",
    "    for i in range(hp.Int(\"num_layers\",2,20)):         \n",
    "        model.add(\n",
    "            Dense(\n",
    "                units=hp.Int(f\"units_{i}\", min_value=32, max_value=512, step=32),\n",
    "                activation=hp.Choice(\"activation\", [\"relu\", \"tanh\"]),\n",
    "            )\n",
    "        )\n",
    "    if hp.Boolean(\"dropout\"):\n",
    "        model.add(Dropout(rate=0.25))\n",
    "    model.add(Dense(1, activation = \"sigmoid\")) \n",
    "    model.compile(optimizer=keras.optimizers.Adam(hp.Choice(\"learning_rate\",values=[10**i for i in range(-4, 0)])),\n",
    "                  loss='binary_crossentropy',metrics=['accuracy'])\n",
    "    return model"
   ]
  },
  {
   "cell_type": "code",
   "execution_count": 183,
   "id": "47ec2284",
   "metadata": {},
   "outputs": [],
   "source": [
    "tuner=BayesianOptimization(build_model,\n",
    "                           objective = \"val_accuracy\",\n",
    "                           #objective=kt.Objective(\"root_mean_squared_error\", direction=\"min\"),\n",
    "                           max_trials=10,\n",
    "                           executions_per_trial=3,\n",
    "                           overwrite=True)"
   ]
  },
  {
   "cell_type": "code",
   "execution_count": 184,
   "id": "454ed52f",
   "metadata": {},
   "outputs": [
    {
     "name": "stdout",
     "output_type": "stream",
     "text": [
      "Search space summary\n",
      "Default search space size: 6\n",
      "num_layers (Int)\n",
      "{'default': None, 'conditions': [], 'min_value': 2, 'max_value': 20, 'step': 1, 'sampling': None}\n",
      "units_0 (Int)\n",
      "{'default': None, 'conditions': [], 'min_value': 32, 'max_value': 512, 'step': 32, 'sampling': None}\n",
      "activation (Choice)\n",
      "{'default': 'relu', 'conditions': [], 'values': ['relu', 'tanh'], 'ordered': False}\n",
      "units_1 (Int)\n",
      "{'default': None, 'conditions': [], 'min_value': 32, 'max_value': 512, 'step': 32, 'sampling': None}\n",
      "dropout (Boolean)\n",
      "{'default': False, 'conditions': []}\n",
      "learning_rate (Choice)\n",
      "{'default': 0.0001, 'conditions': [], 'values': [0.0001, 0.001, 0.01, 0.1], 'ordered': True}\n"
     ]
    }
   ],
   "source": [
    "tuner.search_space_summary()"
   ]
  },
  {
   "cell_type": "code",
   "execution_count": 185,
   "id": "69794d0e",
   "metadata": {},
   "outputs": [
    {
     "name": "stdout",
     "output_type": "stream",
     "text": [
      "Trial 30 Complete [00h 01m 08s]\n",
      "val_accuracy: 0.9363011121749878\n",
      "\n",
      "Best val_accuracy So Far: 0.9496923685073853\n",
      "Total elapsed time: 00h 27m 05s\n",
      "INFO:tensorflow:Oracle triggered exit\n"
     ]
    }
   ],
   "source": [
    "tuner.search(X_train, y_train, epochs=100, validation_data=(X_test, y_test),\n",
    "             callbacks=[tf.keras.callbacks.EarlyStopping(monitor='val_loss',  \n",
    "              patience=20)], verbose=2, batch_size=10, class_weight=class_weights)"
   ]
  },
  {
   "cell_type": "markdown",
   "id": "5c43da35",
   "metadata": {},
   "source": [
    "### Hyperparameter Tuning for the Best Model"
   ]
  },
  {
   "cell_type": "code",
   "execution_count": 149,
   "id": "cd333c1d",
   "metadata": {},
   "outputs": [
    {
     "name": "stdout",
     "output_type": "stream",
     "text": [
      "Best score of gridsearch is 0.9565217391304348\n",
      "\n",
      "The best hyperparameter of lgbm is  {'estimator__colsample_bytree': 0.3, 'estimator__learning_rate': 0.1, 'estimator__max_depth': 5, 'estimator__n_estimators': 500, 'estimator__objective': 'binary'}\n",
      "\n"
     ]
    }
   ],
   "source": [
    "lgbm_grid = {'estimator__objective':['binary'], \n",
    "             'estimator__learning_rate': [10**i for i in range(-3, 0)],\n",
    "             'estimator__max_depth': list(range(3,11,2)),\n",
    "             'estimator__n_estimators':[300, 500],\n",
    "             'estimator__colsample_bytree':[0.3, 0.7]}\n",
    "\n",
    "lgbm = LGBMClassifier(class_weight=class_weights)\n",
    "\n",
    "pipe = Pipeline([('scaler', StandardScaler()), ('estimator', lgbm)])\n",
    "\n",
    "clf = GridSearchCV(estimator=pipe, param_grid=lgbm_grid, n_jobs=-1, cv=inner_cv, scoring='accuracy', error_score = 'raise')\n",
    "grid_result = clf.fit(X_train, y_train)\n",
    "\n",
    "print(f\"Best score of gridsearch is {grid_result.best_score_}\\n\") \n",
    "print(f\"The best hyperparameter of lgbm is  {grid_result.best_params_}\\n\")"
   ]
  },
  {
   "cell_type": "code",
   "execution_count": 195,
   "id": "58f38140",
   "metadata": {},
   "outputs": [
    {
     "name": "stdout",
     "output_type": "stream",
     "text": [
      "Testing set accuracy: 0.9587404994571118 \n",
      "\n",
      "              precision    recall  f1-score   support\n",
      "\n",
      "           0       0.96      0.97      0.96       531\n",
      "           1       0.96      0.94      0.95       390\n",
      "\n",
      "    accuracy                           0.96       921\n",
      "   macro avg       0.96      0.96      0.96       921\n",
      "weighted avg       0.96      0.96      0.96       921\n",
      "\n"
     ]
    },
    {
     "data": {
      "image/png": "[encoded data removed]",
      "text/plain": [
       "<Figure size 432x288 with 1 Axes>"
      ]
     },
     "metadata": {
      "needs_background": "light"
     },
     "output_type": "display_data"
    },
    {
     "data": {
      "image/png": "[encoded data removed]",
      "text/plain": [
       "<Figure size 432x288 with 1 Axes>"
      ]
     },
     "metadata": {
      "needs_background": "light"
     },
     "output_type": "display_data"
    }
   ],
   "source": [
    "clf = LGBMClassifier(class_weight=class_weights, colsample_bytree = 0.3, learning_rate = .1, max_depth = 5, n_estimators = 500, objective = 'binary')\n",
    "\n",
    "scaler = StandardScaler()\n",
    "X_train = scaler.fit_transform(X_train)\n",
    "X_test = scaler.transform(X_test)\n",
    "\n",
    "clf.fit(X_train, y_train)\n",
    "y_train = clf.predict(X_train)\n",
    "y_pred = clf.predict(X_test)\n",
    "\n",
    "print('Testing set accuracy:', accuracy_score(y_test, y_pred),'\\n')\n",
    "\n",
    "# Showing the classificatino report\n",
    "print(classification_report(y_test, y_pred))\n",
    "\n",
    "# Plot the ROC Curve\n",
    "y_pred_proba = clf.predict_proba(X_test)\n",
    "skplt.metrics.plot_roc(y_test, y_pred_proba, plot_micro = False, plot_macro = False)\n",
    "    \n",
    "# Plot the Lift Curve\n",
    "skplt.metrics.plot_lift_curve(y_test, y_pred_proba)\n",
    "plt.show()"
   ]
  },
  {
   "cell_type": "markdown",
   "id": "b6ded667",
   "metadata": {},
   "source": [
    "## Classification based on Business Cost\n",
    "### Machine Learning: Decision Tree, Logistic Regression, KNN, SVM, XGBoost, LightGBM"
   ]
  },
  {
   "cell_type": "code",
   "execution_count": 814,
   "id": "71c2471e",
   "metadata": {},
   "outputs": [],
   "source": [
    "def cost_loss(y_true, y_pred):\n",
    "    cm = confusion_matrix(y_true, y_pred)\n",
    "    cost = cm[0][1] * 10 + cm[1][0] * 1\n",
    "    return cost\n",
    "\n",
    "scoring_cost = make_scorer(cost_loss, greater_is_better= False)\n",
    "# score will negate the return value of my_custom_loss_func"
   ]
  },
  {
   "cell_type": "code",
   "execution_count": 815,
   "id": "608a1415",
   "metadata": {},
   "outputs": [],
   "source": [
    "def NestedCV(param_grid, names, models, normalize, cv=inner_cv, scoring='accuracy'):\n",
    "    cv_score = {}\n",
    "    scaler = ColumnTransformer(\n",
    "                transformers=[('ss', StandardScaler(), names_ls[:-1])],\n",
    "                remainder=\"passthrough\")\n",
    "        \n",
    "        \n",
    "    for name, model, norm, param in zip(names, models, normalize, param_grid):\n",
    "        print(name)\n",
    "        normalization = norm\n",
    "        if normalization:\n",
    "            pipe = Pipeline([('scaler', scaler), ('estimator', model)])   \n",
    "        else:\n",
    "            pipe = Pipeline([('estimator', model)]) \n",
    "            \n",
    "        clf = GridSearchCV(estimator=pipe, param_grid=param, n_jobs=-1, cv=cv, scoring=scoring, error_score = 'raise')\n",
    "        score = cross_val_score(clf, X=X_train, y=y_train, cv=outer_cv)\n",
    "        cv_score[name] = score.mean()\n",
    "    return cv_score\n",
    "\n",
    "# Define the hyperparameter space\n",
    "dt_grid = {\"estimator__max_depth\" : list(range(2,15)),\n",
    "          \"estimator__min_samples_leaf\": [2, 3, 4]}\n",
    "lr_grid = {\"estimator__C\": [10**i for i in range(1, 20)]}\n",
    "knn_grid = {\"estimator__n_neighbors\": list(range(2,20)),\n",
    "          \"estimator__weights\": [\"uniform\", \"distance\"]}\n",
    "svm_grid = {\"estimator__C\": [10**i for i in range(1, 5)],\n",
    "          \"estimator__gamma\": [10**i for i in range(-3, 0)]\n",
    "           #\"estimator__decision_function_shape\": [\"ovo\", \"ovr\"],\n",
    "           #\"estimator__kernel\": [\"linear\", \"poly\", \"rbf\", \"sigmoid\"]\n",
    "           }\n",
    "xgb_grid = {'estimator__objective':['binary:logistic'],\n",
    "            'estimator__learning_rate': [10**i for i in range(-3, 0)],\n",
    "            'estimator__max_depth': list(range(3,11,2)), \n",
    "            'estimator__gamma':[10**i for i in range(-3, 0)],\n",
    "            'estimator__n_estimators':[300, 500], \n",
    "            'estimator__colsample_bytree':[0.3, 0.7]}\n",
    "lgbm_grid = {'estimator__objective':['binary'], \n",
    "             'estimator__learning_rate': [10**i for i in range(-3, 0)],\n",
    "             'estimator__max_depth': list(range(3,11,2)),\n",
    "             'estimator__n_estimators':[300, 500],\n",
    "             'estimator__colsample_bytree':[0.3, 0.7]}\n",
    "\n",
    "models_param_grid = [dt_grid, lr_grid, knn_grid, svm_grid, xgb_grid, lgbm_grid]\n",
    "\n",
    "models = [DecisionTreeClassifier(class_weight=class_weights),\n",
    "          LogisticRegression(class_weight=class_weights), \n",
    "          KNeighborsClassifier(),\n",
    "          SVC(kernel = \"rbf\", class_weight=class_weights),\n",
    "         XGBClassifier(scale_pos_weight = scale_pos_weights, \n",
    "                       tree_method = \"gpu_hist\"\n",
    "                      ),\n",
    "         LGBMClassifier(class_weight=class_weights, \n",
    "                        device = \"gpu\"\n",
    "                       )]\n",
    "names = ['DT', 'LR' ,'KNN' ,'SVC', \"XGB\", \"LGBM\"]\n",
    "norm = [False, True, True, True, True, True]"
   ]
  },
  {
   "cell_type": "code",
   "execution_count": 201,
   "id": "adc0d75e",
   "metadata": {},
   "outputs": [
    {
     "name": "stdout",
     "output_type": "stream",
     "text": [
      "DT\n",
      "LR\n",
      "KNN\n",
      "SVC\n",
      "XGB\n",
      "LGBM\n"
     ]
    },
    {
     "data": {
      "text/plain": [
       "{'DT': -281.25,\n",
       " 'LR': -297.25,\n",
       " 'KNN': -320.0,\n",
       " 'SVC': -282.5,\n",
       " 'XGB': -232.75,\n",
       " 'LGBM': -156.5}"
      ]
     },
     "execution_count": 201,
     "metadata": {},
     "output_type": "execute_result"
    }
   ],
   "source": [
    "NestedCV(param_grid= models_param_grid, models = models, names = names, normalize = norm, scoring = scoring_cost)"
   ]
  },
  {
   "cell_type": "markdown",
   "id": "c7a02954",
   "metadata": {},
   "source": [
    "# Neural Network #"
   ]
  },
  {
   "cell_type": "code",
   "execution_count": 1183,
   "id": "459436a9",
   "metadata": {},
   "outputs": [],
   "source": [
    "def cost_loss(y_true, y_pred):\n",
    "    #FP = tf.metrics.FalsePositives()\n",
    "    #FN = tf.metrics.FalseNegatives()\n",
    "    \n",
    "    y_true = tf.cast(y_true, tf.float32)\n",
    "    y_pred = tf.cast(K.clip(y_pred, 0, 1), tf.float32)\n",
    "    \n",
    "    FP = K.sum(y_pred * (1 - y_true))\n",
    "    FN = K.sum((1 - y_pred) * y_true)\n",
    "    #TP = K.sum(y_pred * y_true)\n",
    "    #TN = K.sum((1 - y_pred) * (1 - y_true))\n",
    "    \n",
    "    #ground_positives = K.sum(y_true) # = TP + FN\n",
    "    #pred_positives = K.sum(K.round(y_pred)) # = TP + FP\n",
    "    #true_positives = K.sum(y_true * K.round(y_pred)) # = TP\n",
    "    #FP = pred_positives - true_positives\n",
    "    #FN = ground_positives - true_positives\n",
    "    \n",
    "    cost = 10 * FP + 1 * FN \n",
    "    return cost\n",
    "\n",
    "scoring_cost = make_scorer(cost_loss, greater_is_better= False)\n",
    "# score will negate the return value of my_custom_loss_func"
   ]
  },
  {
   "cell_type": "code",
   "execution_count": 1184,
   "id": "db99fa11",
   "metadata": {},
   "outputs": [],
   "source": [
    "def build_model(hp):  \n",
    "    model=Sequential()\n",
    "    model.add(Flatten(input_dim=X_train.shape[1]))\n",
    "    for i in range(hp.Int(\"num_layers\",2,20)):         \n",
    "        model.add(\n",
    "            Dense(\n",
    "                units=hp.Int(f\"units_{i}\", min_value=32, max_value=512, step=32),\n",
    "                activation=hp.Choice(\"activation\", [\"tanh\", \"relu\"]),\n",
    "            )\n",
    "        )\n",
    "    if hp.Boolean(\"dropout\"):\n",
    "        model.add(Dropout(rate=0.25))\n",
    "    model.add(Dense(1, activation = \"sigmoid\")) \n",
    "    model.compile(optimizer=keras.optimizers.Adam(hp.Choice(\"learning_rate\",values=[10**i for i in range(-4, 0)])),\n",
    "                  loss=cost_loss, \n",
    "                  #loss=\"binary_crossentropy\",\n",
    "                  metrics=[cost_loss])\n",
    "                  #metrics=['accuracy'])\n",
    "    return model\n",
    "\n"
   ]
  },
  {
   "cell_type": "code",
   "execution_count": 1185,
   "id": "f5b575ee",
   "metadata": {},
   "outputs": [],
   "source": [
    "tuner=BayesianOptimization(build_model,\n",
    "                           #objective = \"val_accuracy\",\n",
    "                           objective=kt.Objective('val_cost_loss', direction=\"min\"),\n",
    "                           max_trials=3,\n",
    "                           executions_per_trial=3,\n",
    "                           overwrite=True)"
   ]
  },
  {
   "cell_type": "code",
   "execution_count": 1186,
   "id": "76f131be",
   "metadata": {},
   "outputs": [
    {
     "name": "stdout",
     "output_type": "stream",
     "text": [
      "Search space summary\n",
      "Default search space size: 6\n",
      "num_layers (Int)\n",
      "{'default': None, 'conditions': [], 'min_value': 2, 'max_value': 20, 'step': 1, 'sampling': None}\n",
      "units_0 (Int)\n",
      "{'default': None, 'conditions': [], 'min_value': 32, 'max_value': 512, 'step': 32, 'sampling': None}\n",
      "activation (Choice)\n",
      "{'default': 'tanh', 'conditions': [], 'values': ['tanh', 'relu'], 'ordered': False}\n",
      "units_1 (Int)\n",
      "{'default': None, 'conditions': [], 'min_value': 32, 'max_value': 512, 'step': 32, 'sampling': None}\n",
      "dropout (Boolean)\n",
      "{'default': False, 'conditions': []}\n",
      "learning_rate (Choice)\n",
      "{'default': 0.0001, 'conditions': [], 'values': [0.0001, 0.001, 0.01, 0.1], 'ordered': True}\n"
     ]
    }
   ],
   "source": [
    "tuner.search_space_summary()"
   ]
  },
  {
   "cell_type": "code",
   "execution_count": 1187,
   "id": "0dab4418",
   "metadata": {},
   "outputs": [
    {
     "name": "stdout",
     "output_type": "stream",
     "text": [
      "Trial 3 Complete [00h 00m 31s]\n",
      "val_cost_loss: 13.448275566101074\n",
      "\n",
      "Best val_cost_loss So Far: 13.448275566101074\n",
      "Total elapsed time: 00h 01m 15s\n",
      "INFO:tensorflow:Oracle triggered exit\n"
     ]
    }
   ],
   "source": [
    "tuner.search(X_train, y_train, epochs=100, validation_data=(X_test, y_test),\n",
    "             callbacks=[tf.keras.callbacks.EarlyStopping(monitor='val_loss',  \n",
    "              patience=20)], verbose=2, batch_size=10, class_weight=class_weights)"
   ]
  },
  {
   "cell_type": "code",
   "execution_count": 1188,
   "id": "d9d0ca62",
   "metadata": {},
   "outputs": [
    {
     "name": "stdout",
     "output_type": "stream",
     "text": [
      "115/115 [==============================] - 1s 4ms/step - loss: 13.6397 - cost_loss: 13.6397\n"
     ]
    },
    {
     "data": {
      "text/plain": [
       "<keras.callbacks.History at 0x7fadfa974580>"
      ]
     },
     "execution_count": 1188,
     "metadata": {},
     "output_type": "execute_result"
    }
   ],
   "source": [
    "best_model = tuner.get_best_models(1)[0]\n",
    "best_model.fit(X_train, y_train)"
   ]
  },
  {
   "cell_type": "code",
   "execution_count": 1189,
   "id": "6fc67c72",
   "metadata": {},
   "outputs": [
    {
     "name": "stdout",
     "output_type": "stream",
     "text": [
      "115/115 [==============================] - 0s 2ms/step\n",
      "29/29 [==============================] - 0s 2ms/step\n"
     ]
    }
   ],
   "source": [
    "y_train = best_model.predict(X_train)\n",
    "y_pred = best_model.predict(X_test)"
   ]
  },
  {
   "cell_type": "code",
   "execution_count": 1190,
   "id": "9f89e021",
   "metadata": {},
   "outputs": [
    {
     "data": {
      "text/plain": [
       "array([[531,   0],\n",
       "       [390,   0]])"
      ]
     },
     "execution_count": 1190,
     "metadata": {},
     "output_type": "execute_result"
    }
   ],
   "source": [
    "confusion_matrix(y_test, K.round(y_pred))"
   ]
  },
  {
   "cell_type": "code",
   "execution_count": 1125,
   "id": "cff12911",
   "metadata": {},
   "outputs": [
    {
     "data": {
      "text/plain": [
       "<tf.Tensor: shape=(), dtype=float32, numpy=338.0>"
      ]
     },
     "execution_count": 1125,
     "metadata": {},
     "output_type": "execute_result"
    }
   ],
   "source": [
    "cost_loss(y_test, y_pred)\n",
    "#from keras.losses import BinaryCrossentropy\n",
    "#bce = BinaryCrossentropy()\n",
    "#bce(y_test.values, y_pred)"
   ]
  },
  {
   "cell_type": "markdown",
   "id": "ea63ff04",
   "metadata": {},
   "source": [
    "### Hyperparameter Tuning for the Best Model"
   ]
  },
  {
   "cell_type": "code",
   "execution_count": 824,
   "id": "e67a6b14",
   "metadata": {},
   "outputs": [
    {
     "name": "stdout",
     "output_type": "stream",
     "text": [
      "Best score of gridsearch is -156.0\n",
      "\n",
      "The best hyperparameter of lgbm is  {'estimator__colsample_bytree': 0.3, 'estimator__learning_rate': 0.001, 'estimator__max_depth': 9, 'estimator__n_estimators': 500, 'estimator__objective': 'binary'}\n",
      "\n"
     ]
    }
   ],
   "source": [
    "lgbm_grid = {'estimator__objective':['binary'], \n",
    "             'estimator__learning_rate': [10**i for i in range(-3, 0)],\n",
    "             'estimator__max_depth': list(range(3,11,2)),\n",
    "             'estimator__n_estimators':[300, 500],\n",
    "             'estimator__colsample_bytree':[0.3, 0.7]}\n",
    "\n",
    "lgbm = LGBMClassifier(class_weight=class_weights)\n",
    "\n",
    "pipe = Pipeline([('scaler', StandardScaler()), ('estimator', lgbm)])\n",
    "\n",
    "clf = GridSearchCV(estimator=pipe, param_grid=lgbm_grid, n_jobs=-1, cv=inner_cv, scoring=scoring_cost, error_score = 'raise')\n",
    "grid_result = clf.fit(X_train, y_train)\n",
    "\n",
    "print(f\"Best score of gridsearch is {grid_result.best_score_}\\n\") \n",
    "print(f\"The best hyperparameter of lgbm is  {grid_result.best_params_}\\n\")"
   ]
  },
  {
   "cell_type": "code",
   "execution_count": 825,
   "id": "decc341b",
   "metadata": {},
   "outputs": [
    {
     "name": "stdout",
     "output_type": "stream",
     "text": [
      "Confusion Matrix: \n",
      " [[527   4]\n",
      " [116 274]] \n",
      "\n",
      "Testing set cost_loss: 156 \n",
      "\n",
      "              precision    recall  f1-score   support\n",
      "\n",
      "           0       0.82      0.99      0.90       531\n",
      "           1       0.99      0.70      0.82       390\n",
      "\n",
      "    accuracy                           0.87       921\n",
      "   macro avg       0.90      0.85      0.86       921\n",
      "weighted avg       0.89      0.87      0.86       921\n",
      "\n"
     ]
    },
    {
     "data": {
      "image/png": "[encoded data removed]",
      "text/plain": [
       "<Figure size 432x288 with 1 Axes>"
      ]
     },
     "metadata": {
      "needs_background": "light"
     },
     "output_type": "display_data"
    },
    {
     "data": {
      "image/png": "[encoded data removed]",
      "text/plain": [
       "<Figure size 432x288 with 1 Axes>"
      ]
     },
     "metadata": {
      "needs_background": "light"
     },
     "output_type": "display_data"
    }
   ],
   "source": [
    "clf = LGBMClassifier(class_weight=class_weights, colsample_bytree = 0.3, learning_rate = .001, max_depth = 9, n_estimators = 500, objective = 'binary')\n",
    "\n",
    "scaler = StandardScaler()\n",
    "X_train = scaler.fit_transform(X_train)\n",
    "X_test = scaler.transform(X_test)\n",
    "\n",
    "clf.fit(X_train, y_train)\n",
    "y_train = clf.predict(X_train)\n",
    "y_pred = clf.predict(X_test)\n",
    "\n",
    "print('Confusion Matrix:', '\\n', confusion_matrix(y_test, y_pred), '\\n')\n",
    "\n",
    "print('Testing set cost_loss:', cost_loss(y_test, y_pred), '\\n')\n",
    "\n",
    "# Showing the classificatino report\n",
    "print(classification_report(y_test, y_pred))\n",
    "\n",
    "# Plot the ROC Curve\n",
    "y_pred_proba = clf.predict_proba(X_test)\n",
    "skplt.metrics.plot_roc(y_test, y_pred_proba, plot_micro = False, plot_macro = False)\n",
    "    \n",
    "# Plot the Lift Curve\n",
    "skplt.metrics.plot_lift_curve(y_test, y_pred_proba)\n",
    "plt.show()"
   ]
  }
 ],
 "metadata": {
  "kernelspec": {
   "display_name": "Python 3",
   "language": "python",
   "name": "python3"
  },
  "language_info": {
   "codemirror_mode": {
    "name": "ipython",
    "version": 3
   },
   "file_extension": ".py",
   "mimetype": "text/x-python",
   "name": "python",
   "nbconvert_exporter": "python",
   "pygments_lexer": "ipython3",
   "version": "3.8.8"
  }
 },
 "nbformat": 4,
 "nbformat_minor": 5
}
